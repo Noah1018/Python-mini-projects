{
 "cells": [
  {
   "cell_type": "code",
   "execution_count": 30,
   "id": "52bcd49a-40f5-4a9c-b2ea-358afda4cb48",
   "metadata": {},
   "outputs": [
    {
     "name": "stdin",
     "output_type": "stream",
     "text": [
      "Enter your name:  ads\n",
      "Enter your weight in pounds:  170\n",
      "Enter your height in inches:  68\n"
     ]
    },
    {
     "name": "stdout",
     "output_type": "stream",
     "text": [
      "25.846\n",
      "ads, You are overweight.\n"
     ]
    }
   ],
   "source": [
    "name = input(\"Enter your name: \")\n",
    "\n",
    "weight = int(input(\"Enter your weight in pounds: \"))\n",
    "\n",
    "height = int(input(\"Enter your height in inches: \"))\n",
    "\n",
    "BMI = (weight * 703) / (height * height)\n",
    "print(round(BMI, 2))\n",
    "\n",
    "if BMI>0:\n",
    "    if(BMI<18.5):\n",
    "        print(name + \", You are underweight.\")\n",
    "    elif(BMI<=24.9):\n",
    "        print(name + \", You are normal weight.\")\n",
    "    elif(BMI<=29.9):\n",
    "        print(name + \", You are overweight.\")\n",
    "    elif(BMI<=34.9):\n",
    "        print(name + \", You are obese.\")\n",
    "    elif(BMI<=39.9):\n",
    "        print(name + \", You are severely obese.\")\n",
    "    elif(BMI>=40):\n",
    "        print(name + \", You are morbidly obese.\")\n",
    "    else:\n",
    "        print(\"Error\")"
   ]
  },
  {
   "cell_type": "code",
   "execution_count": 16,
   "id": "bbb3b09b-7b35-4859-bfc7-b1032608af7f",
   "metadata": {},
   "outputs": [
    {
     "name": "stdout",
     "output_type": "stream",
     "text": [
      "You are overweight.\n"
     ]
    }
   ],
   "source": []
  },
  {
   "cell_type": "code",
   "execution_count": null,
   "id": "67edd264-6c1e-4e5c-952f-205fd9c46ed6",
   "metadata": {},
   "outputs": [],
   "source": []
  }
 ],
 "metadata": {
  "kernelspec": {
   "display_name": "Python 3 (ipykernel)",
   "language": "python",
   "name": "python3"
  },
  "language_info": {
   "codemirror_mode": {
    "name": "ipython",
    "version": 3
   },
   "file_extension": ".py",
   "mimetype": "text/x-python",
   "name": "python",
   "nbconvert_exporter": "python",
   "pygments_lexer": "ipython3",
   "version": "3.12.4"
  }
 },
 "nbformat": 4,
 "nbformat_minor": 5
}
