{
 "cells": [
  {
   "cell_type": "code",
   "execution_count": 56,
   "id": "692204ca-ef75-4df0-8503-968958f46036",
   "metadata": {},
   "outputs": [],
   "source": [
    "import os, shutil"
   ]
  },
  {
   "cell_type": "code",
   "execution_count": 58,
   "id": "ec2c7843-c1ec-401f-985b-516db5549a34",
   "metadata": {},
   "outputs": [],
   "source": [
    "path = r\"C:/Users/Noah/OneDrive/Documents/File Sorting/\""
   ]
  },
  {
   "cell_type": "code",
   "execution_count": 60,
   "id": "f5a53127-f335-459c-bd0d-21037d576e00",
   "metadata": {},
   "outputs": [],
   "source": [
    "file_name = os.listdir(path)"
   ]
  },
  {
   "cell_type": "code",
   "execution_count": 62,
   "id": "76e79829-2300-488e-826a-e2c7fd944c60",
   "metadata": {},
   "outputs": [
    {
     "name": "stdout",
     "output_type": "stream",
     "text": [
      "Created: C:/Users/Noah/OneDrive/Documents/File Sorting/xlsx files\n",
      "Created: C:/Users/Noah/OneDrive/Documents/File Sorting/image files\n",
      "Created: C:/Users/Noah/OneDrive/Documents/File Sorting/text files\n"
     ]
    }
   ],
   "source": [
    "folder_names = ['xlsx files', 'image files', 'text files']\n",
    "\n",
    "for loop in range(0,3):\n",
    "    if not os.path.exists(path + folder_names[loop]):\n",
    "        os.makedirs(path + folder_names[loop])\n",
    "        print(\"Created: \" + path + folder_names[loop])\n",
    "\n",
    "for file in file_name:\n",
    "    if \".xlsx\" in file and not os.path.exists(path + \"xlsx files/\" + file):\n",
    "        shutil.move(path + file, path + \"xlsx files/\" + file)\n",
    "    elif \".png\" in file and not os.path.exists(path + \"image files/\" + file):\n",
    "        shutil.move(path + file, path + \"image files/\" + file)\n",
    "    elif \".txt\" in file and not os.path.exists(path + \"text files/\" + file):\n",
    "        shutil.move(path + file, path + \"text files/\" + file)"
   ]
  },
  {
   "cell_type": "code",
   "execution_count": null,
   "id": "a2f13310-c59e-459f-b1a1-2730662e0d68",
   "metadata": {},
   "outputs": [],
   "source": []
  }
 ],
 "metadata": {
  "kernelspec": {
   "display_name": "Python 3 (ipykernel)",
   "language": "python",
   "name": "python3"
  },
  "language_info": {
   "codemirror_mode": {
    "name": "ipython",
    "version": 3
   },
   "file_extension": ".py",
   "mimetype": "text/x-python",
   "name": "python",
   "nbconvert_exporter": "python",
   "pygments_lexer": "ipython3",
   "version": "3.12.4"
  }
 },
 "nbformat": 4,
 "nbformat_minor": 5
}
